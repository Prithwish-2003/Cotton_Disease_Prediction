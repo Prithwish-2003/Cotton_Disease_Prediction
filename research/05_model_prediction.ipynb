{
 "cells": [
  {
   "cell_type": "code",
   "execution_count": 1,
   "metadata": {},
   "outputs": [],
   "source": [
    "import numpy as np\n",
    "import os\n",
    "from pathlib import Path"
   ]
  },
  {
   "cell_type": "code",
   "execution_count": 2,
   "metadata": {},
   "outputs": [
    {
     "data": {
      "text/plain": [
       "'d:\\\\Computer_Vision\\\\pouravi_computer_vision_project\\\\cotton_disease_classification\\\\research'"
      ]
     },
     "execution_count": 2,
     "metadata": {},
     "output_type": "execute_result"
    }
   ],
   "source": [
    "pwd"
   ]
  },
  {
   "cell_type": "code",
   "execution_count": 3,
   "metadata": {},
   "outputs": [],
   "source": [
    "os.chdir(\"../\")"
   ]
  },
  {
   "cell_type": "code",
   "execution_count": 4,
   "metadata": {},
   "outputs": [],
   "source": [
    "import tensorflow as tf"
   ]
  },
  {
   "cell_type": "code",
   "execution_count": 5,
   "metadata": {},
   "outputs": [],
   "source": [
    "from tensorflow.keras.models import load_model\n",
    "from tensorflow.keras.preprocessing import image"
   ]
  },
  {
   "cell_type": "code",
   "execution_count": 6,
   "metadata": {},
   "outputs": [],
   "source": [
    "model = tf.keras.models.load_model(Path(\"artifacts/training/inceptionV3.h5\"))"
   ]
  },
  {
   "cell_type": "code",
   "execution_count": 15,
   "metadata": {},
   "outputs": [],
   "source": [
    "img=image.load_img(\"artifacts/data_ingestion/test/fresh cotton plant/dsd (223).jpg\",target_size=(224,224))"
   ]
  },
  {
   "cell_type": "code",
   "execution_count": 16,
   "metadata": {},
   "outputs": [
    {
     "data": {
      "text/plain": [
       "array([[[ 57., 138.,  18.],\n",
       "        [ 55., 136.,  16.],\n",
       "        [ 69., 142.,  25.],\n",
       "        ...,\n",
       "        [100., 158.,  81.],\n",
       "        [106., 160.,  76.],\n",
       "        [101., 155.,  77.]],\n",
       "\n",
       "       [[ 68., 145.,  15.],\n",
       "        [ 74., 150.,  28.],\n",
       "        [ 64., 138.,  17.],\n",
       "        ...,\n",
       "        [143., 188.,  85.],\n",
       "        [172., 199.,  84.],\n",
       "        [107., 152.,  69.]],\n",
       "\n",
       "       [[ 64., 139.,  10.],\n",
       "        [ 51., 128.,   0.],\n",
       "        [ 92., 167.,  40.],\n",
       "        ...,\n",
       "        [143., 185.,  57.],\n",
       "        [132., 175.,  68.],\n",
       "        [ 96., 149.,  57.]],\n",
       "\n",
       "       ...,\n",
       "\n",
       "       [[ 60.,  53.,  35.],\n",
       "        [ 66.,  57.,  42.],\n",
       "        [ 55.,  46.,  29.],\n",
       "        ...,\n",
       "        [ 70., 117.,  49.],\n",
       "        [ 72., 122.,  49.],\n",
       "        [ 76., 128.,  54.]],\n",
       "\n",
       "       [[ 67.,  60.,  42.],\n",
       "        [ 69.,  62.,  44.],\n",
       "        [ 87.,  78.,  61.],\n",
       "        ...,\n",
       "        [ 77., 127.,  58.],\n",
       "        [ 82., 132.,  61.],\n",
       "        [ 74., 126.,  54.]],\n",
       "\n",
       "       [[ 63.,  56.,  38.],\n",
       "        [ 76.,  69.,  51.],\n",
       "        [ 78.,  70.,  51.],\n",
       "        ...,\n",
       "        [ 75., 125.,  56.],\n",
       "        [ 80., 130.,  59.],\n",
       "        [ 75., 125.,  54.]]], dtype=float32)"
      ]
     },
     "execution_count": 16,
     "metadata": {},
     "output_type": "execute_result"
    }
   ],
   "source": [
    "x=image.img_to_array(img)\n",
    "x"
   ]
  },
  {
   "cell_type": "code",
   "execution_count": 17,
   "metadata": {},
   "outputs": [
    {
     "data": {
      "text/plain": [
       "(224, 224, 3)"
      ]
     },
     "execution_count": 17,
     "metadata": {},
     "output_type": "execute_result"
    }
   ],
   "source": [
    "x.shape"
   ]
  },
  {
   "cell_type": "code",
   "execution_count": 18,
   "metadata": {},
   "outputs": [
    {
     "data": {
      "text/plain": [
       "array([[[0.22352941, 0.5411765 , 0.07058824],\n",
       "        [0.21568628, 0.53333336, 0.0627451 ],\n",
       "        [0.27058825, 0.5568628 , 0.09803922],\n",
       "        ...,\n",
       "        [0.39215687, 0.61960787, 0.31764707],\n",
       "        [0.41568628, 0.627451  , 0.29803923],\n",
       "        [0.39607844, 0.60784316, 0.3019608 ]],\n",
       "\n",
       "       [[0.26666668, 0.5686275 , 0.05882353],\n",
       "        [0.2901961 , 0.5882353 , 0.10980392],\n",
       "        [0.2509804 , 0.5411765 , 0.06666667],\n",
       "        ...,\n",
       "        [0.56078434, 0.7372549 , 0.33333334],\n",
       "        [0.6745098 , 0.78039217, 0.32941177],\n",
       "        [0.41960785, 0.59607846, 0.27058825]],\n",
       "\n",
       "       [[0.2509804 , 0.54509807, 0.03921569],\n",
       "        [0.2       , 0.5019608 , 0.        ],\n",
       "        [0.36078432, 0.654902  , 0.15686275],\n",
       "        ...,\n",
       "        [0.56078434, 0.7254902 , 0.22352941],\n",
       "        [0.5176471 , 0.6862745 , 0.26666668],\n",
       "        [0.3764706 , 0.58431375, 0.22352941]],\n",
       "\n",
       "       ...,\n",
       "\n",
       "       [[0.23529412, 0.20784314, 0.13725491],\n",
       "        [0.25882354, 0.22352941, 0.16470589],\n",
       "        [0.21568628, 0.18039216, 0.11372549],\n",
       "        ...,\n",
       "        [0.27450982, 0.45882353, 0.19215687],\n",
       "        [0.28235295, 0.47843137, 0.19215687],\n",
       "        [0.29803923, 0.5019608 , 0.21176471]],\n",
       "\n",
       "       [[0.2627451 , 0.23529412, 0.16470589],\n",
       "        [0.27058825, 0.24313726, 0.17254902],\n",
       "        [0.34117648, 0.30588236, 0.23921569],\n",
       "        ...,\n",
       "        [0.3019608 , 0.49803922, 0.22745098],\n",
       "        [0.32156864, 0.5176471 , 0.23921569],\n",
       "        [0.2901961 , 0.49411765, 0.21176471]],\n",
       "\n",
       "       [[0.24705882, 0.21960784, 0.14901961],\n",
       "        [0.29803923, 0.27058825, 0.2       ],\n",
       "        [0.30588236, 0.27450982, 0.2       ],\n",
       "        ...,\n",
       "        [0.29411766, 0.49019608, 0.21960784],\n",
       "        [0.3137255 , 0.50980395, 0.23137255],\n",
       "        [0.29411766, 0.49019608, 0.21176471]]], dtype=float32)"
      ]
     },
     "execution_count": 18,
     "metadata": {},
     "output_type": "execute_result"
    }
   ],
   "source": [
    "x=x/255\n",
    "x"
   ]
  },
  {
   "cell_type": "code",
   "execution_count": 19,
   "metadata": {},
   "outputs": [],
   "source": [
    "from tensorflow.keras.applications.inception_v3 import preprocess_input"
   ]
  },
  {
   "cell_type": "code",
   "execution_count": 20,
   "metadata": {},
   "outputs": [
    {
     "data": {
      "text/plain": [
       "(1, 224, 224, 3)"
      ]
     },
     "execution_count": 20,
     "metadata": {},
     "output_type": "execute_result"
    }
   ],
   "source": [
    "import numpy as np\n",
    "x=np.expand_dims(x,axis=0)\n",
    "img_data=preprocess_input(x)\n",
    "img_data.shape"
   ]
  },
  {
   "cell_type": "code",
   "execution_count": 21,
   "metadata": {},
   "outputs": [
    {
     "name": "stdout",
     "output_type": "stream",
     "text": [
      "1/1 [==============================] - 0s 129ms/step\n"
     ]
    },
    {
     "data": {
      "text/plain": [
       "array([[0.95277894, 0.00662976, 0.02957789, 0.01101347]], dtype=float32)"
      ]
     },
     "execution_count": 21,
     "metadata": {},
     "output_type": "execute_result"
    }
   ],
   "source": [
    "model.predict(img_data)"
   ]
  },
  {
   "cell_type": "code",
   "execution_count": 23,
   "metadata": {},
   "outputs": [
    {
     "name": "stdout",
     "output_type": "stream",
     "text": [
      "1/1 [==============================] - 0s 119ms/step\n"
     ]
    },
    {
     "data": {
      "text/plain": [
       "array([0], dtype=int64)"
      ]
     },
     "execution_count": 23,
     "metadata": {},
     "output_type": "execute_result"
    }
   ],
   "source": [
    "np.argmax(model.predict(img_data), axis=1)"
   ]
  },
  {
   "cell_type": "code",
   "execution_count": 38,
   "metadata": {},
   "outputs": [
    {
     "data": {
      "text/plain": [
       "array([False])"
      ]
     },
     "execution_count": 38,
     "metadata": {},
     "output_type": "execute_result"
    }
   ],
   "source": [
    "a==1"
   ]
  },
  {
   "cell_type": "code",
   "execution_count": null,
   "metadata": {},
   "outputs": [],
   "source": []
  }
 ],
 "metadata": {
  "kernelspec": {
   "display_name": "venv",
   "language": "python",
   "name": "python3"
  },
  "language_info": {
   "codemirror_mode": {
    "name": "ipython",
    "version": 3
   },
   "file_extension": ".py",
   "mimetype": "text/x-python",
   "name": "python",
   "nbconvert_exporter": "python",
   "pygments_lexer": "ipython3",
   "version": "3.8.19"
  }
 },
 "nbformat": 4,
 "nbformat_minor": 2
}
